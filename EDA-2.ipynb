{
 "cells": [
  {
   "cell_type": "code",
   "execution_count": 2,
   "metadata": {},
   "outputs": [],
   "source": [
    "import pandas as pd\n",
    "import numpy as np\n",
    "from sklearn.preprocessing import StandardScaler, MinMaxScaler, OneHotEncoder, LabelEncoder\n",
    "from sklearn.ensemble import IsolationForest\n",
    "import seaborn as sns\n",
    "import matplotlib.pyplot as plt\n",
    "from scipy.stats import chi2_contingency"
   ]
  },
  {
   "cell_type": "code",
   "execution_count": 4,
   "metadata": {},
   "outputs": [],
   "source": [
    "# Load the dataset\n",
    "data = pd.read_csv(\"C:\\\\Data science\\\\Assignments\\\\adult_with_headers.csv\")"
   ]
  },
  {
   "cell_type": "code",
   "execution_count": 6,
   "metadata": {},
   "outputs": [
    {
     "name": "stdout",
     "output_type": "stream",
     "text": [
      "Dataset Information:\n",
      "<class 'pandas.core.frame.DataFrame'>\n",
      "RangeIndex: 32561 entries, 0 to 32560\n",
      "Data columns (total 15 columns):\n",
      " #   Column          Non-Null Count  Dtype \n",
      "---  ------          --------------  ----- \n",
      " 0   age             32561 non-null  int64 \n",
      " 1   workclass       32561 non-null  object\n",
      " 2   fnlwgt          32561 non-null  int64 \n",
      " 3   education       32561 non-null  object\n",
      " 4   education_num   32561 non-null  int64 \n",
      " 5   marital_status  32561 non-null  object\n",
      " 6   occupation      32561 non-null  object\n",
      " 7   relationship    32561 non-null  object\n",
      " 8   race            32561 non-null  object\n",
      " 9   sex             32561 non-null  object\n",
      " 10  capital_gain    32561 non-null  int64 \n",
      " 11  capital_loss    32561 non-null  int64 \n",
      " 12  hours_per_week  32561 non-null  int64 \n",
      " 13  native_country  32561 non-null  object\n",
      " 14  income          32561 non-null  object\n",
      "dtypes: int64(6), object(9)\n",
      "memory usage: 3.7+ MB\n",
      "None\n",
      "\n",
      "First few rows of the dataset:\n",
      "   age          workclass  fnlwgt   education  education_num  \\\n",
      "0   39          State-gov   77516   Bachelors             13   \n",
      "1   50   Self-emp-not-inc   83311   Bachelors             13   \n",
      "2   38            Private  215646     HS-grad              9   \n",
      "3   53            Private  234721        11th              7   \n",
      "4   28            Private  338409   Bachelors             13   \n",
      "\n",
      "        marital_status          occupation    relationship    race      sex  \\\n",
      "0        Never-married        Adm-clerical   Not-in-family   White     Male   \n",
      "1   Married-civ-spouse     Exec-managerial         Husband   White     Male   \n",
      "2             Divorced   Handlers-cleaners   Not-in-family   White     Male   \n",
      "3   Married-civ-spouse   Handlers-cleaners         Husband   Black     Male   \n",
      "4   Married-civ-spouse      Prof-specialty            Wife   Black   Female   \n",
      "\n",
      "   capital_gain  capital_loss  hours_per_week  native_country  income  \n",
      "0          2174             0              40   United-States   <=50K  \n",
      "1             0             0              13   United-States   <=50K  \n",
      "2             0             0              40   United-States   <=50K  \n",
      "3             0             0              40   United-States   <=50K  \n",
      "4             0             0              40            Cuba   <=50K  \n",
      "\n",
      "Summary Statistics:\n",
      "                 age workclass        fnlwgt education  education_num  \\\n",
      "count   32561.000000     32561  3.256100e+04     32561   32561.000000   \n",
      "unique           NaN         9           NaN        16            NaN   \n",
      "top              NaN   Private           NaN   HS-grad            NaN   \n",
      "freq             NaN     22696           NaN     10501            NaN   \n",
      "mean       38.581647       NaN  1.897784e+05       NaN      10.080679   \n",
      "std        13.640433       NaN  1.055500e+05       NaN       2.572720   \n",
      "min        17.000000       NaN  1.228500e+04       NaN       1.000000   \n",
      "25%        28.000000       NaN  1.178270e+05       NaN       9.000000   \n",
      "50%        37.000000       NaN  1.783560e+05       NaN      10.000000   \n",
      "75%        48.000000       NaN  2.370510e+05       NaN      12.000000   \n",
      "max        90.000000       NaN  1.484705e+06       NaN      16.000000   \n",
      "\n",
      "             marital_status       occupation relationship    race    sex  \\\n",
      "count                 32561            32561        32561   32561  32561   \n",
      "unique                    7               15            6       5      2   \n",
      "top      Married-civ-spouse   Prof-specialty      Husband   White   Male   \n",
      "freq                  14976             4140        13193   27816  21790   \n",
      "mean                    NaN              NaN          NaN     NaN    NaN   \n",
      "std                     NaN              NaN          NaN     NaN    NaN   \n",
      "min                     NaN              NaN          NaN     NaN    NaN   \n",
      "25%                     NaN              NaN          NaN     NaN    NaN   \n",
      "50%                     NaN              NaN          NaN     NaN    NaN   \n",
      "75%                     NaN              NaN          NaN     NaN    NaN   \n",
      "max                     NaN              NaN          NaN     NaN    NaN   \n",
      "\n",
      "        capital_gain  capital_loss  hours_per_week  native_country  income  \n",
      "count   32561.000000  32561.000000    32561.000000           32561   32561  \n",
      "unique           NaN           NaN             NaN              42       2  \n",
      "top              NaN           NaN             NaN   United-States   <=50K  \n",
      "freq             NaN           NaN             NaN           29170   24720  \n",
      "mean     1077.648844     87.303830       40.437456             NaN     NaN  \n",
      "std      7385.292085    402.960219       12.347429             NaN     NaN  \n",
      "min         0.000000      0.000000        1.000000             NaN     NaN  \n",
      "25%         0.000000      0.000000       40.000000             NaN     NaN  \n",
      "50%         0.000000      0.000000       40.000000             NaN     NaN  \n",
      "75%         0.000000      0.000000       45.000000             NaN     NaN  \n",
      "max     99999.000000   4356.000000       99.000000             NaN     NaN  \n"
     ]
    }
   ],
   "source": [
    "# 1. Data Exploration and Preprocessing\n",
    "\n",
    "# 1.1 Basic Data Exploration\n",
    "print(\"Dataset Information:\")\n",
    "print(data.info())\n",
    "\n",
    "print(\"\\nFirst few rows of the dataset:\")\n",
    "print(data.head())\n",
    "\n",
    "print(\"\\nSummary Statistics:\")\n",
    "print(data.describe(include='all'))"
   ]
  },
  {
   "cell_type": "code",
   "execution_count": 7,
   "metadata": {},
   "outputs": [
    {
     "name": "stdout",
     "output_type": "stream",
     "text": [
      "\n",
      "Missing values in each column:\n",
      "age               0\n",
      "workclass         0\n",
      "fnlwgt            0\n",
      "education         0\n",
      "education_num     0\n",
      "marital_status    0\n",
      "occupation        0\n",
      "relationship      0\n",
      "race              0\n",
      "sex               0\n",
      "capital_gain      0\n",
      "capital_loss      0\n",
      "hours_per_week    0\n",
      "native_country    0\n",
      "income            0\n",
      "dtype: int64\n"
     ]
    }
   ],
   "source": [
    "# 1.2 Handle Missing Values\n",
    "# Check for missing values\n",
    "print(\"\\nMissing values in each column:\")\n",
    "print(data.isnull().sum())"
   ]
  },
  {
   "cell_type": "code",
   "execution_count": 8,
   "metadata": {},
   "outputs": [],
   "source": [
    "# 1.3 Apply Scaling Techniques\n",
    "\n",
    "# Select numerical features\n",
    "numerical_features = ['age', 'fnlwgt', 'education_num', 'capital_gain', 'capital_loss', 'hours_per_week']"
   ]
  },
  {
   "cell_type": "code",
   "execution_count": 9,
   "metadata": {},
   "outputs": [],
   "source": [
    "# Standard Scaling\n",
    "scaler_standard = StandardScaler()\n",
    "data_standard_scaled = pd.DataFrame(scaler_standard.fit_transform(data[numerical_features]), columns=numerical_features)"
   ]
  },
  {
   "cell_type": "code",
   "execution_count": 11,
   "metadata": {},
   "outputs": [
    {
     "name": "stdout",
     "output_type": "stream",
     "text": [
      "\n",
      "Standard Scaled Data (first 5 rows):\n",
      "        age    fnlwgt  education_num  capital_gain  capital_loss  \\\n",
      "0  0.030671 -1.063611       1.134739      0.148453      -0.21666   \n",
      "1  0.837109 -1.008707       1.134739     -0.145920      -0.21666   \n",
      "2 -0.042642  0.245079      -0.420060     -0.145920      -0.21666   \n",
      "3  1.057047  0.425801      -1.197459     -0.145920      -0.21666   \n",
      "4 -0.775768  1.408176       1.134739     -0.145920      -0.21666   \n",
      "\n",
      "   hours_per_week  \n",
      "0       -0.035429  \n",
      "1       -2.222153  \n",
      "2       -0.035429  \n",
      "3       -0.035429  \n",
      "4       -0.035429  \n",
      "\n",
      "Min-Max Scaled Data (first 5 rows):\n",
      "        age    fnlwgt  education_num  capital_gain  capital_loss  \\\n",
      "0  0.301370  0.044302       0.800000       0.02174           0.0   \n",
      "1  0.452055  0.048238       0.800000       0.00000           0.0   \n",
      "2  0.287671  0.138113       0.533333       0.00000           0.0   \n",
      "3  0.493151  0.151068       0.400000       0.00000           0.0   \n",
      "4  0.150685  0.221488       0.800000       0.00000           0.0   \n",
      "\n",
      "   hours_per_week  \n",
      "0        0.397959  \n",
      "1        0.122449  \n",
      "2        0.397959  \n",
      "3        0.397959  \n",
      "4        0.397959  \n"
     ]
    }
   ],
   "source": [
    "# Min-Max Scaling\n",
    "scaler_minmax = MinMaxScaler()\n",
    "data_minmax_scaled = pd.DataFrame(scaler_minmax.fit_transform(data[numerical_features]), columns=numerical_features)\n",
    "print(\"\\nStandard Scaled Data (first 5 rows):\")\n",
    "print(data_standard_scaled.head())\n",
    "\n",
    "print(\"\\nMin-Max Scaled Data (first 5 rows):\")\n",
    "print(data_minmax_scaled.head())"
   ]
  },
  {
   "cell_type": "code",
   "execution_count": 13,
   "metadata": {},
   "outputs": [],
   "source": [
    "# 2. Encoding Techniques\n",
    "\n",
    "# 2.1 One-Hot Encoding for categorical variables with <5 categories\n",
    "one_hot_features = ['sex', 'race']\n",
    "one_hot_encoder = OneHotEncoder(sparse_output=False)  # Updated argument name\n",
    "one_hot_encoded_data = pd.DataFrame(one_hot_encoder.fit_transform(data[one_hot_features]), \n",
    "                                    columns=one_hot_encoder.get_feature_names_out(one_hot_features))\n",
    "\n"
   ]
  },
  {
   "cell_type": "code",
   "execution_count": 14,
   "metadata": {},
   "outputs": [
    {
     "name": "stdout",
     "output_type": "stream",
     "text": [
      "\n",
      "One-Hot Encoded Data (first 5 rows):\n",
      "   sex_ Female  sex_ Male  race_ Amer-Indian-Eskimo  race_ Asian-Pac-Islander  \\\n",
      "0          0.0        1.0                       0.0                       0.0   \n",
      "1          0.0        1.0                       0.0                       0.0   \n",
      "2          0.0        1.0                       0.0                       0.0   \n",
      "3          0.0        1.0                       0.0                       0.0   \n",
      "4          1.0        0.0                       0.0                       0.0   \n",
      "\n",
      "   race_ Black  race_ Other  race_ White  \n",
      "0          0.0          0.0          1.0  \n",
      "1          0.0          0.0          1.0  \n",
      "2          0.0          0.0          1.0  \n",
      "3          1.0          0.0          0.0  \n",
      "4          1.0          0.0          0.0  \n",
      "\n",
      "Label Encoded Data (first 5 rows):\n",
      "   workclass  education  marital_status  occupation  relationship  \\\n",
      "0          7          9               4           1             1   \n",
      "1          6          9               2           4             0   \n",
      "2          4         11               0           6             1   \n",
      "3          4          1               2           6             0   \n",
      "4          4          9               2          10             5   \n",
      "\n",
      "   native_country  \n",
      "0              39  \n",
      "1              39  \n",
      "2              39  \n",
      "3              39  \n",
      "4               5  \n"
     ]
    }
   ],
   "source": [
    "# 2.2 Label Encoding for categorical variables with >5 categories\n",
    "label_encoded_features = ['workclass', 'education', 'marital_status', 'occupation', 'relationship', 'native_country']\n",
    "\n",
    "label_encoder = LabelEncoder()\n",
    "data_label_encoded = data.copy()\n",
    "for feature in label_encoded_features:\n",
    "    data_label_encoded[feature] = label_encoder.fit_transform(data[feature])\n",
    "\n",
    "print(\"\\nOne-Hot Encoded Data (first 5 rows):\")\n",
    "print(one_hot_encoded_data.head())\n",
    "\n",
    "print(\"\\nLabel Encoded Data (first 5 rows):\")\n",
    "print(data_label_encoded[label_encoded_features].head())"
   ]
  },
  {
   "cell_type": "code",
   "execution_count": 15,
   "metadata": {},
   "outputs": [
    {
     "name": "stdout",
     "output_type": "stream",
     "text": [
      "\n",
      "New Features Added:\n",
      "   age    age_group  hours_per_week hours_category\n",
      "0   39  Middle-aged              40      Full-time\n",
      "1   50  Middle-aged              13      Part-time\n",
      "2   38  Middle-aged              40      Full-time\n",
      "3   53       Senior              40      Full-time\n",
      "4   28        Young              40      Full-time\n"
     ]
    }
   ],
   "source": [
    "# 3. Feature Engineering\n",
    "\n",
    "# 3.1 Create new features\n",
    "# Example: Age Group\n",
    "data['age_group'] = pd.cut(data['age'], bins=[0, 30, 50, 100], labels=['Young', 'Middle-aged', 'Senior'])\n",
    "\n",
    "# Example: Hours per week category\n",
    "data['hours_category'] = pd.cut(data['hours_per_week'], bins=[0, 20, 40, 60, 100], \n",
    "                                labels=['Part-time', 'Full-time', 'Over-time', 'Extreme'])\n",
    "\n",
    "print(\"\\nNew Features Added:\")\n",
    "print(data[['age', 'age_group', 'hours_per_week', 'hours_category']].head())\n"
   ]
  },
  {
   "cell_type": "code",
   "execution_count": 16,
   "metadata": {},
   "outputs": [
    {
     "name": "stdout",
     "output_type": "stream",
     "text": [
      "\n",
      "Log Transformed Capital Gain (first 5 rows):\n",
      "   capital_gain  capital_gain_log\n",
      "0          2174          7.684784\n",
      "1             0          0.000000\n",
      "2             0          0.000000\n",
      "3             0          0.000000\n",
      "4             0          0.000000\n"
     ]
    }
   ],
   "source": [
    "# 3.2 Apply a transformation to a skewed feature\n",
    "# Log transformation on capital_gain (which is highly skewed)\n",
    "data['capital_gain_log'] = np.log1p(data['capital_gain'])\n",
    "\n",
    "print(\"\\nLog Transformed Capital Gain (first 5 rows):\")\n",
    "print(data[['capital_gain', 'capital_gain_log']].head())\n"
   ]
  },
  {
   "cell_type": "code",
   "execution_count": 17,
   "metadata": {},
   "outputs": [],
   "source": [
    "# 4. Feature Selection\n",
    "\n",
    "# 4.1 Isolation Forest for Outlier Detection\n",
    "iso_forest = IsolationForest(contamination=0.01, random_state=42)\n",
    "outliers = iso_forest.fit_predict(data[numerical_features])"
   ]
  },
  {
   "cell_type": "code",
   "execution_count": 18,
   "metadata": {},
   "outputs": [
    {
     "name": "stdout",
     "output_type": "stream",
     "text": [
      "\n",
      "Data after removing outliers (first 5 rows):\n",
      "   age          workclass  fnlwgt   education  education_num  \\\n",
      "0   39          State-gov   77516   Bachelors             13   \n",
      "1   50   Self-emp-not-inc   83311   Bachelors             13   \n",
      "2   38            Private  215646     HS-grad              9   \n",
      "3   53            Private  234721        11th              7   \n",
      "4   28            Private  338409   Bachelors             13   \n",
      "\n",
      "        marital_status          occupation    relationship    race      sex  \\\n",
      "0        Never-married        Adm-clerical   Not-in-family   White     Male   \n",
      "1   Married-civ-spouse     Exec-managerial         Husband   White     Male   \n",
      "2             Divorced   Handlers-cleaners   Not-in-family   White     Male   \n",
      "3   Married-civ-spouse   Handlers-cleaners         Husband   Black     Male   \n",
      "4   Married-civ-spouse      Prof-specialty            Wife   Black   Female   \n",
      "\n",
      "   capital_gain  capital_loss  hours_per_week  native_country  income  \\\n",
      "0          2174             0              40   United-States   <=50K   \n",
      "1             0             0              13   United-States   <=50K   \n",
      "2             0             0              40   United-States   <=50K   \n",
      "3             0             0              40   United-States   <=50K   \n",
      "4             0             0              40            Cuba   <=50K   \n",
      "\n",
      "     age_group hours_category  capital_gain_log  \n",
      "0  Middle-aged      Full-time          7.684784  \n",
      "1  Middle-aged      Part-time          0.000000  \n",
      "2  Middle-aged      Full-time          0.000000  \n",
      "3       Senior      Full-time          0.000000  \n",
      "4        Young      Full-time          0.000000  \n"
     ]
    }
   ],
   "source": [
    "# Remove outliers\n",
    "data_cleaned = data[outliers == 1]\n",
    "\n",
    "print(\"\\nData after removing outliers (first 5 rows):\")\n",
    "print(data_cleaned.head())"
   ]
  },
  {
   "cell_type": "code",
   "execution_count": 20,
   "metadata": {},
   "outputs": [
    {
     "data": {
      "image/png": "[encoded data removed]",
      "text/plain": [
       "<Figure size 640x480 with 2 Axes>"
      ]
     },
     "metadata": {},
     "output_type": "display_data"
    }
   ],
   "source": [
    "# 4.2 Correlation Matrix\n",
    "\n",
    "# Select only numerical columns for correlation matrix\n",
    "numerical_cols = data_cleaned.select_dtypes(include=['float64', 'int64']).columns\n",
    "\n",
    "# Calculate correlation matrix\n",
    "corr_matrix = data_cleaned[numerical_cols].corr()\n",
    "\n",
    "# Plot the correlation matrix\n",
    "sns.heatmap(corr_matrix, annot=True, cmap=\"coolwarm\")\n",
    "plt.title('Correlation Matrix')\n",
    "plt.show()\n"
   ]
  },
  {
   "cell_type": "code",
   "execution_count": 21,
   "metadata": {},
   "outputs": [
    {
     "name": "stdout",
     "output_type": "stream",
     "text": [
      "\n",
      "Chi-Square Test Results (p-values):\n",
      "{'workclass': 3.540673555333661e-205, 'education': 0.0, 'marital_status': 0.0, 'occupation': 0.0, 'relationship': 0.0, 'native_country': 3.0200581368112616e-42}\n"
     ]
    }
   ],
   "source": [
    "# 4.3 Chi-Square Test for categorical features\n",
    "chi2_results = {}\n",
    "for col in label_encoded_features:\n",
    "    contingency_table = pd.crosstab(data_cleaned[col], data_cleaned['income'])\n",
    "    chi2, p, dof, expected = chi2_contingency(contingency_table)\n",
    "    chi2_results[col] = p\n",
    "\n",
    "# Display chi-square test results\n",
    "print(\"\\nChi-Square Test Results (p-values):\")\n",
    "print(chi2_results)\n"
   ]
  },
  {
   "cell_type": "code",
   "execution_count": null,
   "metadata": {},
   "outputs": [],
   "source": []
  }
 ],
 "metadata": {
  "kernelspec": {
   "display_name": "base",
   "language": "python",
   "name": "python3"
  },
  "language_info": {
   "codemirror_mode": {
    "name": "ipython",
    "version": 3
   },
   "file_extension": ".py",
   "mimetype": "text/x-python",
   "name": "python",
   "nbconvert_exporter": "python",
   "pygments_lexer": "ipython3",
   "version": "3.12.4"
  }
 },
 "nbformat": 4,
 "nbformat_minor": 2
}
